{
 "cells": [
  {
   "cell_type": "markdown",
   "metadata": {},
   "source": [
    "사용자로부터 3개의 숫자를 입력받아, 이를 튜플로 만든 후 최소값과 최대값을 출력하는 함수 min_max를 작성하세요."
   ]
  },
  {
   "cell_type": "markdown",
   "metadata": {},
   "source": [
    "def min_max():\n",
    "    \n",
    "    num1 = int(input(\"첫 번째 숫자를 입력하세요: \"))\n",
    "    num2 = int(input(\"두 번째 숫자를 입력하세요: \"))\n",
    "    num3 = int(input(\"세 번째 숫자를 입력하세요: \"))\n",
    "    \n",
    "    \n",
    "    numbers = (num1, num2, num3)\n",
    "    print(\"입력된 숫자들:\", numbers)\n",
    "    print(\"최소값:\", min(numbers))\n",
    "    print(\"최대값:\", max(numbers))\n",
    "\n",
    "\n",
    "min_max()"
   ]
  }
 ],
 "metadata": {
  "language_info": {
   "name": "python"
  }
 },
 "nbformat": 4,
 "nbformat_minor": 2
}
